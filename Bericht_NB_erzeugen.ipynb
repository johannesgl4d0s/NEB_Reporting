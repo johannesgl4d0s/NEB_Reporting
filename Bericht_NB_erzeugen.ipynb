{
 "cells": [
  {
   "metadata": {},
   "cell_type": "markdown",
   "source": "# Start - Zellen werden aktiviert mit Shift + Enter",
   "id": "39383c3d6ee45e37"
  },
  {
   "metadata": {
    "ExecuteTime": {
     "end_time": "2025-06-25T13:32:06.148326Z",
     "start_time": "2025-06-25T13:32:06.132393Z"
    }
   },
   "cell_type": "code",
   "source": [
    "from openpyxl import load_workbook\n",
    "from pathlib import Path\n",
    "from datetime import date\n",
    "import calendar\n",
    "from docx import Document\n",
    "from docx.shared import Pt, Inches\n",
    "from docx.enum.table import WD_TABLE_ALIGNMENT\n",
    "from win32com.client import Dispatch\n",
    "import shutil\n",
    "import uuid\n",
    "import time"
   ],
   "id": "503c996c0dcc6f81",
   "outputs": [],
   "execution_count": 5
  },
  {
   "metadata": {},
   "cell_type": "markdown",
   "source": [
    "# ----------------- KONFIGURATION -----------------\n",
    "\n",
    "1. report_monat auf den richtigen monat einstellen\n",
    "2. Überprüfen ob Excel pfad richtig ist\n",
    "3. template_path überprüfen\n",
    "4. out_dir richtig setzen"
   ],
   "id": "c0a41feaad44a7c9"
  },
  {
   "metadata": {
    "ExecuteTime": {
     "end_time": "2025-06-25T13:32:07.304537Z",
     "start_time": "2025-06-25T13:32:07.288728Z"
    }
   },
   "cell_type": "code",
   "source": [
    "\n",
    "report_monat = \"2020-03\"  # YYYY-MM\n",
    "year, month = map(int, report_monat.split(\"-\"))\n",
    "mon_str = date(year, month, 1).strftime(\"%B %Y\")\n",
    "\n",
    "EXCEL_PATH   = Path(r'C:\\Users\\johannes.misensky\\OneDrive - AGGM\\AGGM\\2025\\00_NK/Netzverlustenergie 2024_test.xlsx')\n",
    "TEMPLATE_PATH = Path(r\"C:\\Users\\johannes.misensky\\OneDrive - AGGM\\AGGM\\2025\\04_Berichte/NEB-Bericht.docx\")\n",
    "OUT_DIR      = Path(str(Path(r\"C:\\Users\\johannes.misensky\\OneDrive - AGGM\\AGGM\\2025\\00_NK\\4 Berichte\")) +'/'  + report_monat)\n",
    "OUT_DIR.mkdir(parents=True, exist_ok=True)\n"
   ],
   "id": "b060bbe33031d403",
   "outputs": [],
   "execution_count": 6
  },
  {
   "metadata": {},
   "cell_type": "markdown",
   "source": "# ----------------- COM-Funktion mit Aktivierung -----------------",
   "id": "f1e353140dc7eca3"
  },
  {
   "metadata": {
    "ExecuteTime": {
     "end_time": "2025-06-25T13:32:08.394616Z",
     "start_time": "2025-06-25T13:32:08.362929Z"
    }
   },
   "cell_type": "code",
   "source": [
    "def convert_to_pdf(docx_path: Path, pdf_path: Path):\n",
    "    \"\"\"\n",
    "    Exportiert ein DOCX zu PDF via Word-COM über SaveAs.\n",
    "    Umgeht COM-RPC-Fehler durch direkte SaveAs.\n",
    "    \"\"\"\n",
    "    tmp_docx = docx_path.parent / f\"tmp_{uuid.uuid4().hex}.docx\"\n",
    "    shutil.copy(docx_path, tmp_docx)\n",
    "    word = Dispatch('Word.Application')\n",
    "    word.Visible = False\n",
    "    doc = word.Documents.Open(str(tmp_docx), ReadOnly=False)\n",
    "    time.sleep(0.5)\n",
    "    doc.SaveAs(str(pdf_path), FileFormat=17)  # wdFormatPDF\n",
    "    doc.Close(False)\n",
    "    word.Quit()\n",
    "    tmp_docx.unlink()\n",
    "\n",
    "# ----------------- Platzhalter ersetzen -----------------\n",
    "def replace_placeholders(doc: Document, context: dict):\n",
    "    for p in doc.paragraphs:\n",
    "        for key, val in context.items():\n",
    "            placeholder = f\"{{{{{key}}}}}\"\n",
    "            if placeholder in p.text:\n",
    "                p.text = p.text.replace(placeholder, str(val))\n",
    "    for table in doc.tables:\n",
    "        for row in table.rows:\n",
    "            for cell in row.cells:\n",
    "                for key, val in context.items():\n",
    "                    placeholder = f\"{{{{{key}}}}}\"\n",
    "                    if placeholder in cell.text:\n",
    "                        cell.text = cell.text.replace(placeholder, str(val))\n",
    "\n",
    "# ----------------- Literal 'a' ersetzen -----------------\n",
    "def replace_literal_a(doc: Document, name: str):\n",
    "    for p in doc.paragraphs:\n",
    "        if p.text.strip() == 'a':\n",
    "            p.text = name\n",
    "    for table in doc.tables:\n",
    "        for row in table.rows:\n",
    "            for cell in row.cells:\n",
    "                if cell.text.strip() == 'a':\n",
    "                    cell.text = name\n",
    "\n",
    "# ----------------- Tabellen-Formatierung -----------------\n",
    "def format_kwh(val):\n",
    "    num = float(val or 0)\n",
    "    s = f\"{num:,.3f}\".replace(',', 'X').replace('.', ',').replace('X', '.')\n",
    "    return f\"{s} kWh\"\n",
    "\n",
    "def format_pct(val, is_summary=False):\n",
    "    num = float(val or 0) * 100\n",
    "    s = f\"{num:,.2f}\".replace(',', 'X').replace('.', ',').replace('X', '.')\n",
    "    return (f\"Ø {s}%\" if is_summary else f\"{s}%\")\n",
    "\n",
    "def style_and_fill(table, rows, summary):\n",
    "    table.style = 'Table Grid'\n",
    "    table.alignment = WD_TABLE_ALIGNMENT.CENTER\n",
    "    table.autofit = False\n",
    "    widths = [Inches(1.2)] * 4\n",
    "    for idx, width in enumerate(widths):\n",
    "        for cell in table.columns[idx].cells:\n",
    "            cell.width = width\n",
    "    # clear existing data rows\n",
    "    while len(table.rows) > 1:\n",
    "        table._tbl.remove(table.rows[-1]._tr)\n",
    "    # fill rows\n",
    "    for r in rows:\n",
    "        cells = table.add_row().cells\n",
    "        cells[0].text = r['Datum'].strftime('%d.%m.%Y')\n",
    "        cells[1].text = format_kwh(r['Prognose'])\n",
    "        cells[2].text = format_kwh(r['Clearing'])\n",
    "        cells[3].text = format_pct(r['Fehler'])\n",
    "        for cell in cells:\n",
    "            for run in cell.paragraphs[0].runs:\n",
    "                run.font.size = Pt(8)\n",
    "    # summary\n",
    "    sumcells = table.add_row().cells\n",
    "    sumcells[0].text = 'Gesamt'\n",
    "    sumcells[1].text = format_kwh(summary['Prognose'])\n",
    "    sumcells[2].text = format_kwh(summary['Clearing'])\n",
    "    sumcells[3].text = format_pct(summary['Fehler'], is_summary=True)\n",
    "    for cell in sumcells:\n",
    "        for run in cell.paragraphs[0].runs:\n",
    "            run.font.size = Pt(8)\n",
    "            run.font.highlight_color = 7"
   ],
   "id": "f43a06c649ae2061",
   "outputs": [],
   "execution_count": 7
  },
  {
   "metadata": {},
   "cell_type": "markdown",
   "source": "# ----------------- Excel-Daten auslesen --------------------",
   "id": "1c89f12f34a0d63b"
  },
  {
   "metadata": {
    "ExecuteTime": {
     "end_time": "2025-06-25T13:42:21.719402Z",
     "start_time": "2025-06-25T13:41:53.065323Z"
    }
   },
   "cell_type": "code",
   "source": [
    "wb = load_workbook(EXCEL_PATH, data_only=True)\n",
    "ws = wb['Prognosegüte (d)']  # Name anpassen\n",
    "\n",
    "# finde Operatoren mit JA\n",
    "ops = []\n",
    "for c in range(3, ws.max_column + 1, 3):\n",
    "    if ws.cell(row=1, column=c + 2).value == 'JA':\n",
    "        ops.append({'Name': ws.cell(row=1, column=c).value, 'col': c})\n",
    "\n",
    "# finde Header-Zeile (erste 'Prognose')\n",
    "header = next(r for r in range(1, ws.max_row + 1)\n",
    "              if ws.cell(row=r, column=ops[0]['col']).value == 'Prognose')\n",
    "\n",
    "# finde Start-Zeile für das erste Datum des Monats (vergleich als date)\n",
    "from datetime import datetime as _dt\n",
    "\n",
    "first_date = date(year, month, 1)\n",
    "row_start = None\n",
    "for r in range(header + 1, ws.max_row + 1):\n",
    "    val = ws.cell(row=r, column=2).value\n",
    "    # konvertiere datetime zu date für den Vergleich\n",
    "    if hasattr(val, 'date'):\n",
    "        cell_date = val.date()\n",
    "    else:\n",
    "        cell_date = val\n",
    "    if cell_date == first_date:\n",
    "        row_start = r\n",
    "        break\n",
    "if row_start is None:\n",
    "    raise ValueError(f\"Startdatum {first_date} nicht gefunden in Spalte B\")\n",
    "\n",
    "days = calendar.monthrange(year, month)[1]  # Anzahl Tage im Berichtmonat\n",
    "\n",
    "# Gesamt-Daten einlesen\n",
    "# Finde Gesamt-Spalte\n",
    "tot_col = next((c for c in range(1, ws.max_column + 1)\n",
    "                if isinstance(ws.cell(row=1, column=c).value, str)\n",
    "                and 'GESAMT AGGN_NV' in ws.cell(row=1, column=c).value.strip().upper()),\n",
    "               ws.max_column - 2)\n",
    "\n",
    "tot_rows = []\n",
    "for i in range(days):\n",
    "    r = row_start + i\n",
    "    tot_rows.append({\n",
    "        'Datum': date(year, month, i + 1),\n",
    "        'Prognose': ws.cell(row=r, column=tot_col).value,\n",
    "        'Clearing': ws.cell(row=r, column=tot_col + 1).value,\n",
    "        'Fehler': ws.cell(row=r, column=tot_col + 2).value\n",
    "    })\n",
    "\n",
    "# Summen\n",
    "tot_sum = {\n",
    "    'Prognose': sum(r['Prognose'] or 0 for r in tot_rows),\n",
    "    'Clearing': sum(r['Clearing'] or 0 for r in tot_rows),\n",
    "    'Fehler': sum(r['Fehler'] or 0 for r in tot_rows) / days\n",
    "}\n",
    "\n",
    "# Berichte erstellen\n",
    "for op in ops:\n",
    "    rows = []\n",
    "    for i in range(days):\n",
    "        r = row_start + i\n",
    "        rows.append({\n",
    "            'Datum': date(year, month, i + 1),\n",
    "            'Prognose': ws.cell(row=r, column=op['col']).value,\n",
    "            'Clearing': ws.cell(row=r, column=op['col'] + 1).value,\n",
    "            'Fehler': ws.cell(row=r, column=op['col'] + 2).value\n",
    "        })\n",
    "    summ = {\n",
    "        'Prognose': sum(r['Prognose'] or 0 for r in rows),\n",
    "        'Clearing': sum(r['Clearing'] or 0 for r in rows),\n",
    "        'Fehler': sum(r['Fehler'] or 0 for r in rows) / days\n",
    "    }\n",
    "\n",
    "    doc = Document(TEMPLATE_PATH)\n",
    "    replace_placeholders(doc, {'Monat': mon_str, 'VNB': op['Name']})\n",
    "    replace_literal_a(doc, op['Name'])\n",
    "    style_and_fill(doc.tables[0], rows, summ)\n",
    "    style_and_fill(doc.tables[1], tot_rows, tot_sum)\n",
    "\n",
    "    filename = f\"{year:04d}-{month:02d} NEB Bericht {op['Name']}\"\n",
    "    p_docx = OUT_DIR / f\"{filename}.docx\"\n",
    "    p_pdf = OUT_DIR / f\"{filename}.pdf\"\n",
    "    doc.save(p_docx)\n",
    "    convert_to_pdf(p_docx, p_pdf)\n",
    "    print(f\"fertig: {p_pdf}\")\n"
   ],
   "id": "a46ef3e620a613a2",
   "outputs": [
    {
     "ename": "ValueError",
     "evalue": "{\"error\":\"invalid_request\",\"error_description\":\"AADSTS90013: Invalid input received from the user. Trace ID: dde0d407-d8e3-4374-9c9f-e17a5a54d100 Correlation ID: c80bab05-cb7f-4f95-8498-fd085a37d6b4 Timestamp: 2025-06-25 13:42:17Z\",\"error_codes\":[90013],\"timestamp\":\"2025-06-25 13:42:17Z\",\"trace_id\":\"dde0d407-d8e3-4374-9c9f-e17a5a54d100\",\"correlation_id\":\"c80bab05-cb7f-4f95-8498-fd085a37d6b4\"}",
     "output_type": "error",
     "traceback": [
      "\u001B[1;31m---------------------------------------------------------------------------\u001B[0m",
      "\u001B[1;31mHTTPError\u001B[0m                                 Traceback (most recent call last)",
      "File \u001B[1;32m~\\OneDrive - AGGM\\Dokumente\\PythonProject\\.venv\\lib\\site-packages\\office365\\runtime\\auth\\providers\\acs_token_provider.py:44\u001B[0m, in \u001B[0;36mACSTokenProvider.get_app_only_access_token\u001B[1;34m(self)\u001B[0m\n\u001B[0;32m     43\u001B[0m     url_info \u001B[38;5;241m=\u001B[39m urlparse(\u001B[38;5;28mself\u001B[39m\u001B[38;5;241m.\u001B[39murl)\n\u001B[1;32m---> 44\u001B[0m     \u001B[38;5;28;01mreturn\u001B[39;00m \u001B[38;5;28;43mself\u001B[39;49m\u001B[38;5;241;43m.\u001B[39;49m\u001B[43m_get_app_only_access_token\u001B[49m\u001B[43m(\u001B[49m\u001B[43murl_info\u001B[49m\u001B[38;5;241;43m.\u001B[39;49m\u001B[43mhostname\u001B[49m\u001B[43m,\u001B[49m\u001B[43m \u001B[49m\u001B[43mrealm\u001B[49m\u001B[43m)\u001B[49m\n\u001B[0;32m     45\u001B[0m \u001B[38;5;28;01mexcept\u001B[39;00m requests\u001B[38;5;241m.\u001B[39mexceptions\u001B[38;5;241m.\u001B[39mRequestException \u001B[38;5;28;01mas\u001B[39;00m e:\n",
      "File \u001B[1;32m~\\OneDrive - AGGM\\Dokumente\\PythonProject\\.venv\\lib\\site-packages\\office365\\runtime\\auth\\providers\\acs_token_provider.py:78\u001B[0m, in \u001B[0;36mACSTokenProvider._get_app_only_access_token\u001B[1;34m(self, target_host, target_realm)\u001B[0m\n\u001B[0;32m     73\u001B[0m response \u001B[38;5;241m=\u001B[39m requests\u001B[38;5;241m.\u001B[39mpost(\n\u001B[0;32m     74\u001B[0m     url\u001B[38;5;241m=\u001B[39msts_url,\n\u001B[0;32m     75\u001B[0m     headers\u001B[38;5;241m=\u001B[39m{\u001B[38;5;124m\"\u001B[39m\u001B[38;5;124mContent-Type\u001B[39m\u001B[38;5;124m\"\u001B[39m: \u001B[38;5;124m\"\u001B[39m\u001B[38;5;124mapplication/x-www-form-urlencoded\u001B[39m\u001B[38;5;124m\"\u001B[39m},\n\u001B[0;32m     76\u001B[0m     data\u001B[38;5;241m=\u001B[39moauth2_request,\n\u001B[0;32m     77\u001B[0m )\n\u001B[1;32m---> 78\u001B[0m \u001B[43mresponse\u001B[49m\u001B[38;5;241;43m.\u001B[39;49m\u001B[43mraise_for_status\u001B[49m\u001B[43m(\u001B[49m\u001B[43m)\u001B[49m\n\u001B[0;32m     79\u001B[0m \u001B[38;5;28;01mreturn\u001B[39;00m TokenResponse\u001B[38;5;241m.\u001B[39mfrom_json(response\u001B[38;5;241m.\u001B[39mjson())\n",
      "File \u001B[1;32m~\\OneDrive - AGGM\\Dokumente\\PythonProject\\.venv\\lib\\site-packages\\requests\\models.py:1026\u001B[0m, in \u001B[0;36mResponse.raise_for_status\u001B[1;34m(self)\u001B[0m\n\u001B[0;32m   1025\u001B[0m \u001B[38;5;28;01mif\u001B[39;00m http_error_msg:\n\u001B[1;32m-> 1026\u001B[0m     \u001B[38;5;28;01mraise\u001B[39;00m HTTPError(http_error_msg, response\u001B[38;5;241m=\u001B[39m\u001B[38;5;28mself\u001B[39m)\n",
      "\u001B[1;31mHTTPError\u001B[0m: 400 Client Error: Bad Request for url: https://accounts.accesscontrol.windows.net/6a5fabdd-ad81-40b5-a1be-f540927009e3/tokens/OAuth/2",
      "\nDuring handling of the above exception, another exception occurred:\n",
      "\u001B[1;31mValueError\u001B[0m                                Traceback (most recent call last)",
      "Cell \u001B[1;32mIn[10], line 86\u001B[0m\n\u001B[0;32m     84\u001B[0m doc\u001B[38;5;241m.\u001B[39msave(p_docx)\n\u001B[0;32m     85\u001B[0m convert_to_pdf(p_docx, p_pdf)\n\u001B[1;32m---> 86\u001B[0m \u001B[43mupload_to_sharepoint\u001B[49m\u001B[43m(\u001B[49m\n\u001B[0;32m     87\u001B[0m \u001B[43m    \u001B[49m\u001B[43mbetreiber_name\u001B[49m\u001B[38;5;241;43m=\u001B[39;49m\u001B[43mop\u001B[49m\u001B[43m[\u001B[49m\u001B[38;5;124;43m'\u001B[39;49m\u001B[38;5;124;43mName\u001B[39;49m\u001B[38;5;124;43m'\u001B[39;49m\u001B[43m]\u001B[49m\u001B[43m,\u001B[49m\n\u001B[0;32m     88\u001B[0m \u001B[43m    \u001B[49m\u001B[43myear\u001B[49m\u001B[38;5;241;43m=\u001B[39;49m\u001B[43myear\u001B[49m\u001B[43m,\u001B[49m\n\u001B[0;32m     89\u001B[0m \u001B[43m    \u001B[49m\u001B[43mlocal_pdf\u001B[49m\u001B[38;5;241;43m=\u001B[39;49m\u001B[43mp_pdf\u001B[49m\u001B[43m,\u001B[49m\n\u001B[0;32m     90\u001B[0m \u001B[43m    \u001B[49m\u001B[43mfilename\u001B[49m\u001B[38;5;241;43m=\u001B[39;49m\u001B[43mfilename\u001B[49m\n\u001B[0;32m     91\u001B[0m \u001B[43m\u001B[49m\u001B[43m)\u001B[49m\n\u001B[0;32m     92\u001B[0m \u001B[38;5;28mprint\u001B[39m(\u001B[38;5;124mf\u001B[39m\u001B[38;5;124m\"\u001B[39m\u001B[38;5;124mfertig: \u001B[39m\u001B[38;5;132;01m{\u001B[39;00mp_pdf\u001B[38;5;132;01m}\u001B[39;00m\u001B[38;5;124m\"\u001B[39m)\n",
      "Cell \u001B[1;32mIn[9], line 28\u001B[0m, in \u001B[0;36mupload_to_sharepoint\u001B[1;34m(betreiber_name, year, local_pdf, filename)\u001B[0m\n\u001B[0;32m     26\u001B[0m betreiber_folder \u001B[38;5;241m=\u001B[39m ctx\u001B[38;5;241m.\u001B[39mweb\u001B[38;5;241m.\u001B[39mget_folder_by_server_relative_url(root_folder_url)\n\u001B[0;32m     27\u001B[0m ctx\u001B[38;5;241m.\u001B[39mload(betreiber_folder)\n\u001B[1;32m---> 28\u001B[0m \u001B[43mctx\u001B[49m\u001B[38;5;241;43m.\u001B[39;49m\u001B[43mexecute_query\u001B[49m\u001B[43m(\u001B[49m\u001B[43m)\u001B[49m\n\u001B[0;32m     30\u001B[0m \u001B[38;5;66;03m# Jahres-Unterordner prüfen oder anlegen\u001B[39;00m\n\u001B[0;32m     31\u001B[0m year_str \u001B[38;5;241m=\u001B[39m \u001B[38;5;28mstr\u001B[39m(year)\n",
      "File \u001B[1;32m~\\OneDrive - AGGM\\Dokumente\\PythonProject\\.venv\\lib\\site-packages\\office365\\runtime\\client_runtime_context.py:173\u001B[0m, in \u001B[0;36mClientRuntimeContext.execute_query\u001B[1;34m(self)\u001B[0m\n\u001B[0;32m    171\u001B[0m \u001B[38;5;28;01mwhile\u001B[39;00m \u001B[38;5;28mself\u001B[39m\u001B[38;5;241m.\u001B[39mhas_pending_request:\n\u001B[0;32m    172\u001B[0m     qry \u001B[38;5;241m=\u001B[39m \u001B[38;5;28mself\u001B[39m\u001B[38;5;241m.\u001B[39m_get_next_query()\n\u001B[1;32m--> 173\u001B[0m     \u001B[38;5;28;43mself\u001B[39;49m\u001B[38;5;241;43m.\u001B[39;49m\u001B[43mpending_request\u001B[49m\u001B[43m(\u001B[49m\u001B[43m)\u001B[49m\u001B[38;5;241;43m.\u001B[39;49m\u001B[43mexecute_query\u001B[49m\u001B[43m(\u001B[49m\u001B[43mqry\u001B[49m\u001B[43m)\u001B[49m\n\u001B[0;32m    174\u001B[0m \u001B[38;5;28;01mreturn\u001B[39;00m \u001B[38;5;28mself\u001B[39m\n",
      "File \u001B[1;32m~\\OneDrive - AGGM\\Dokumente\\PythonProject\\.venv\\lib\\site-packages\\office365\\runtime\\client_request.py:37\u001B[0m, in \u001B[0;36mClientRequest.execute_query\u001B[1;34m(self, query)\u001B[0m\n\u001B[0;32m     35\u001B[0m \u001B[38;5;28;01mtry\u001B[39;00m:\n\u001B[0;32m     36\u001B[0m     request \u001B[38;5;241m=\u001B[39m \u001B[38;5;28mself\u001B[39m\u001B[38;5;241m.\u001B[39mbuild_request(query)\n\u001B[1;32m---> 37\u001B[0m     response \u001B[38;5;241m=\u001B[39m \u001B[38;5;28;43mself\u001B[39;49m\u001B[38;5;241;43m.\u001B[39;49m\u001B[43mexecute_request_direct\u001B[49m\u001B[43m(\u001B[49m\u001B[43mrequest\u001B[49m\u001B[43m)\u001B[49m\n\u001B[0;32m     38\u001B[0m     \u001B[38;5;28mself\u001B[39m\u001B[38;5;241m.\u001B[39mprocess_response(response, query)\n\u001B[0;32m     39\u001B[0m     \u001B[38;5;28mself\u001B[39m\u001B[38;5;241m.\u001B[39mafterExecute\u001B[38;5;241m.\u001B[39mnotify(response)\n",
      "File \u001B[1;32m~\\OneDrive - AGGM\\Dokumente\\PythonProject\\.venv\\lib\\site-packages\\office365\\runtime\\client_request.py:46\u001B[0m, in \u001B[0;36mClientRequest.execute_request_direct\u001B[1;34m(self, request)\u001B[0m\n\u001B[0;32m     43\u001B[0m \u001B[38;5;28;01mdef\u001B[39;00m\u001B[38;5;250m \u001B[39m\u001B[38;5;21mexecute_request_direct\u001B[39m(\u001B[38;5;28mself\u001B[39m, request):\n\u001B[0;32m     44\u001B[0m     \u001B[38;5;66;03m# type: (RequestOptions) -> requests.Response\u001B[39;00m\n\u001B[0;32m     45\u001B[0m \u001B[38;5;250m    \u001B[39m\u001B[38;5;124;03m\"\"\"Execute the client request\"\"\"\u001B[39;00m\n\u001B[1;32m---> 46\u001B[0m     \u001B[38;5;28;43mself\u001B[39;49m\u001B[38;5;241;43m.\u001B[39;49m\u001B[43mbeforeExecute\u001B[49m\u001B[38;5;241;43m.\u001B[39;49m\u001B[43mnotify\u001B[49m\u001B[43m(\u001B[49m\u001B[43mrequest\u001B[49m\u001B[43m)\u001B[49m\n\u001B[0;32m     47\u001B[0m     \u001B[38;5;28;01mif\u001B[39;00m request\u001B[38;5;241m.\u001B[39mmethod \u001B[38;5;241m==\u001B[39m HttpMethod\u001B[38;5;241m.\u001B[39mPost:\n\u001B[0;32m     48\u001B[0m         \u001B[38;5;28;01mif\u001B[39;00m request\u001B[38;5;241m.\u001B[39mis_bytes \u001B[38;5;129;01mor\u001B[39;00m request\u001B[38;5;241m.\u001B[39mis_file:\n",
      "File \u001B[1;32m~\\OneDrive - AGGM\\Dokumente\\PythonProject\\.venv\\lib\\site-packages\\office365\\runtime\\types\\event_handler.py:41\u001B[0m, in \u001B[0;36mEventHandler.notify\u001B[1;34m(self, *args, **kwargs)\u001B[0m\n\u001B[0;32m     39\u001B[0m \u001B[38;5;28;01mif\u001B[39;00m \u001B[38;5;28mself\u001B[39m\u001B[38;5;241m.\u001B[39m_once:\n\u001B[0;32m     40\u001B[0m     \u001B[38;5;28mself\u001B[39m\u001B[38;5;241m.\u001B[39m_listeners\u001B[38;5;241m.\u001B[39mremove(listener)\n\u001B[1;32m---> 41\u001B[0m listener(\u001B[38;5;241m*\u001B[39margs, \u001B[38;5;241m*\u001B[39m\u001B[38;5;241m*\u001B[39mkwargs)\n",
      "File \u001B[1;32m~\\OneDrive - AGGM\\Dokumente\\PythonProject\\.venv\\lib\\site-packages\\office365\\sharepoint\\client_context.py:272\u001B[0m, in \u001B[0;36mClientContext._authenticate_request\u001B[1;34m(self, request)\u001B[0m\n\u001B[0;32m    269\u001B[0m \u001B[38;5;28;01mdef\u001B[39;00m\u001B[38;5;250m \u001B[39m\u001B[38;5;21m_authenticate_request\u001B[39m(\u001B[38;5;28mself\u001B[39m, request):\n\u001B[0;32m    270\u001B[0m     \u001B[38;5;66;03m# type: (RequestOptions) -> None\u001B[39;00m\n\u001B[0;32m    271\u001B[0m \u001B[38;5;250m    \u001B[39m\u001B[38;5;124;03m\"\"\"Authenticate request\"\"\"\u001B[39;00m\n\u001B[1;32m--> 272\u001B[0m     \u001B[38;5;28;43mself\u001B[39;49m\u001B[38;5;241;43m.\u001B[39;49m\u001B[43mauthentication_context\u001B[49m\u001B[38;5;241;43m.\u001B[39;49m\u001B[43mauthenticate_request\u001B[49m\u001B[43m(\u001B[49m\u001B[43mrequest\u001B[49m\u001B[43m)\u001B[49m\n",
      "File \u001B[1;32m~\\OneDrive - AGGM\\Dokumente\\PythonProject\\.venv\\lib\\site-packages\\office365\\runtime\\auth\\authentication_context.py:275\u001B[0m, in \u001B[0;36mAuthenticationContext.authenticate_request\u001B[1;34m(self, request)\u001B[0m\n\u001B[0;32m    273\u001B[0m \u001B[38;5;28;01mif\u001B[39;00m \u001B[38;5;28mself\u001B[39m\u001B[38;5;241m.\u001B[39m_authenticate \u001B[38;5;129;01mis\u001B[39;00m \u001B[38;5;28;01mNone\u001B[39;00m:\n\u001B[0;32m    274\u001B[0m     \u001B[38;5;28;01mraise\u001B[39;00m \u001B[38;5;167;01mValueError\u001B[39;00m(\u001B[38;5;124m\"\u001B[39m\u001B[38;5;124mAuthentication credentials are missing or invalid\u001B[39m\u001B[38;5;124m\"\u001B[39m)\n\u001B[1;32m--> 275\u001B[0m \u001B[38;5;28;43mself\u001B[39;49m\u001B[38;5;241;43m.\u001B[39;49m\u001B[43m_authenticate\u001B[49m\u001B[43m(\u001B[49m\u001B[43mrequest\u001B[49m\u001B[43m)\u001B[49m\n",
      "File \u001B[1;32m~\\OneDrive - AGGM\\Dokumente\\PythonProject\\.venv\\lib\\site-packages\\office365\\runtime\\auth\\authentication_context.py:229\u001B[0m, in \u001B[0;36mAuthenticationContext.with_credentials.<locals>._authenticate\u001B[1;34m(request)\u001B[0m\n\u001B[0;32m    227\u001B[0m \u001B[38;5;28;01mdef\u001B[39;00m\u001B[38;5;250m \u001B[39m\u001B[38;5;21m_authenticate\u001B[39m(request):\n\u001B[0;32m    228\u001B[0m     \u001B[38;5;66;03m# type: (RequestOptions) -> None\u001B[39;00m\n\u001B[1;32m--> 229\u001B[0m     \u001B[43mprovider\u001B[49m\u001B[38;5;241;43m.\u001B[39;49m\u001B[43mauthenticate_request\u001B[49m\u001B[43m(\u001B[49m\u001B[43mrequest\u001B[49m\u001B[43m)\u001B[49m\n",
      "File \u001B[1;32m~\\OneDrive - AGGM\\Dokumente\\PythonProject\\.venv\\lib\\site-packages\\office365\\runtime\\auth\\providers\\acs_token_provider.py:36\u001B[0m, in \u001B[0;36mACSTokenProvider.authenticate_request\u001B[1;34m(self, request)\u001B[0m\n\u001B[0;32m     33\u001B[0m \u001B[38;5;28;01mdef\u001B[39;00m\u001B[38;5;250m \u001B[39m\u001B[38;5;21mauthenticate_request\u001B[39m(\u001B[38;5;28mself\u001B[39m, request):\n\u001B[0;32m     34\u001B[0m     \u001B[38;5;66;03m# type: (RequestOptions) -> None\u001B[39;00m\n\u001B[0;32m     35\u001B[0m     \u001B[38;5;28;01mif\u001B[39;00m \u001B[38;5;28mself\u001B[39m\u001B[38;5;241m.\u001B[39m_cached_token \u001B[38;5;129;01mis\u001B[39;00m \u001B[38;5;28;01mNone\u001B[39;00m:\n\u001B[1;32m---> 36\u001B[0m         \u001B[38;5;28mself\u001B[39m\u001B[38;5;241m.\u001B[39m_cached_token \u001B[38;5;241m=\u001B[39m \u001B[38;5;28;43mself\u001B[39;49m\u001B[38;5;241;43m.\u001B[39;49m\u001B[43mget_app_only_access_token\u001B[49m\u001B[43m(\u001B[49m\u001B[43m)\u001B[49m\n\u001B[0;32m     37\u001B[0m     request\u001B[38;5;241m.\u001B[39mset_header(\u001B[38;5;124m\"\u001B[39m\u001B[38;5;124mAuthorization\u001B[39m\u001B[38;5;124m\"\u001B[39m, \u001B[38;5;28mself\u001B[39m\u001B[38;5;241m.\u001B[39m_cached_token\u001B[38;5;241m.\u001B[39mauthorization_header)\n",
      "File \u001B[1;32m~\\OneDrive - AGGM\\Dokumente\\PythonProject\\.venv\\lib\\site-packages\\office365\\runtime\\auth\\providers\\acs_token_provider.py:51\u001B[0m, in \u001B[0;36mACSTokenProvider.get_app_only_access_token\u001B[1;34m(self)\u001B[0m\n\u001B[0;32m     45\u001B[0m \u001B[38;5;28;01mexcept\u001B[39;00m requests\u001B[38;5;241m.\u001B[39mexceptions\u001B[38;5;241m.\u001B[39mRequestException \u001B[38;5;28;01mas\u001B[39;00m e:\n\u001B[0;32m     46\u001B[0m     \u001B[38;5;28mself\u001B[39m\u001B[38;5;241m.\u001B[39merror \u001B[38;5;241m=\u001B[39m (\n\u001B[0;32m     47\u001B[0m         e\u001B[38;5;241m.\u001B[39mresponse\u001B[38;5;241m.\u001B[39mtext\n\u001B[0;32m     48\u001B[0m         \u001B[38;5;28;01mif\u001B[39;00m e\u001B[38;5;241m.\u001B[39mresponse \u001B[38;5;129;01mis\u001B[39;00m \u001B[38;5;129;01mnot\u001B[39;00m \u001B[38;5;28;01mNone\u001B[39;00m\n\u001B[0;32m     49\u001B[0m         \u001B[38;5;28;01melse\u001B[39;00m \u001B[38;5;124m\"\u001B[39m\u001B[38;5;124mAcquire app-only access token failed.\u001B[39m\u001B[38;5;124m\"\u001B[39m\n\u001B[0;32m     50\u001B[0m     )\n\u001B[1;32m---> 51\u001B[0m     \u001B[38;5;28;01mraise\u001B[39;00m \u001B[38;5;167;01mValueError\u001B[39;00m(\u001B[38;5;28mself\u001B[39m\u001B[38;5;241m.\u001B[39merror)\n",
      "\u001B[1;31mValueError\u001B[0m: {\"error\":\"invalid_request\",\"error_description\":\"AADSTS90013: Invalid input received from the user. Trace ID: dde0d407-d8e3-4374-9c9f-e17a5a54d100 Correlation ID: c80bab05-cb7f-4f95-8498-fd085a37d6b4 Timestamp: 2025-06-25 13:42:17Z\",\"error_codes\":[90013],\"timestamp\":\"2025-06-25 13:42:17Z\",\"trace_id\":\"dde0d407-d8e3-4374-9c9f-e17a5a54d100\",\"correlation_id\":\"c80bab05-cb7f-4f95-8498-fd085a37d6b4\"}"
     ]
    }
   ],
   "execution_count": 10
  },
  {
   "metadata": {
    "ExecuteTime": {
     "end_time": "2025-06-25T13:29:36.633404Z",
     "start_time": "2025-06-25T13:29:36.617445Z"
    }
   },
   "cell_type": "code",
   "source": "",
   "id": "d97db5d2dc56fce4",
   "outputs": [
    {
     "data": {
      "text/plain": [
       "WindowsPath('C:/Users/johannes.misensky/OneDrive - AGGM/AGGM/2025/00_NK/4 Berichte/2020-03')"
      ]
     },
     "execution_count": 107,
     "metadata": {},
     "output_type": "execute_result"
    }
   ],
   "execution_count": 107
  },
  {
   "metadata": {},
   "cell_type": "code",
   "outputs": [],
   "execution_count": null,
   "source": "",
   "id": "5b38ac99a39165d0"
  }
 ],
 "metadata": {
  "kernelspec": {
   "display_name": "Python 3",
   "language": "python",
   "name": "python3"
  },
  "language_info": {
   "codemirror_mode": {
    "name": "ipython",
    "version": 2
   },
   "file_extension": ".py",
   "mimetype": "text/x-python",
   "name": "python",
   "nbconvert_exporter": "python",
   "pygments_lexer": "ipython2",
   "version": "2.7.6"
  }
 },
 "nbformat": 4,
 "nbformat_minor": 5
}
